{
  "nbformat": 4,
  "nbformat_minor": 0,
  "metadata": {
    "colab": {
      "provenance": []
    },
    "kernelspec": {
      "name": "python3",
      "display_name": "Python 3"
    },
    "language_info": {
      "name": "python"
    }
  },
  "cells": [
    {
      "cell_type": "code",
      "source": [
        "import os\n",
        "import csv\n",
        "import nltk\n",
        "from nltk.sentiment.vader import SentimentIntensityAnalyzer\n",
        "\n",
        "# Download NLTK resources (if not already downloaded)\n",
        "nltk.download('vader_lexicon')\n",
        "\n",
        "\n",
        "# Initialize the SentimentIntensityAnalyzer\n",
        "sia = SentimentIntensityAnalyzer()\n",
        "\n",
        "def analyze_sentiment(text):\n",
        "    # Perform sentiment analysis\n",
        "    sentiment_scores = sia.polarity_scores(text)\n",
        "\n",
        "    # Determine sentiment label based on compound score\n",
        "    if sentiment_scores['compound'] > 0.05:\n",
        "        return \"Positive\"\n",
        "    elif sentiment_scores['compound'] < -0.05:\n",
        "        return \"Negative\"\n",
        "    else:\n",
        "        return \"Neutral\"\n",
        "\n",
        "# Function to process each CSV file\n",
        "def process_csv(input_filename, output_filename):\n",
        "    if not os.path.exists(input_filename):\n",
        "        print(f\"Error: Input file '{input_filename}' not found.\")\n",
        "        return\n",
        "\n",
        "    with open(input_filename, 'r', encoding='utf-8') as file:\n",
        "        reader = csv.DictReader(file)\n",
        "        data = list(reader)\n",
        "\n",
        "    for item in data:\n",
        "        # Analyze sentiment for the content\n",
        "        item['predicted_sentiment'] = analyze_sentiment(item['content'])\n",
        "\n",
        "    # Write the results to a new CSV file\n",
        "    fieldnames = ['date', 'content', 'predicted_sentiment']\n",
        "    with open(output_filename, 'w', newline='', encoding='utf-8') as csvfile:\n",
        "        writer = csv.DictWriter(csvfile, fieldnames=fieldnames)\n",
        "        writer.writeheader()\n",
        "        for item in data:\n",
        "            writer.writerow({key: item[key] for key in fieldnames})\n",
        "\n",
        "    print(f\"Sentiment analysis results saved to {output_filename}\")\n",
        "\n",
        "\n",
        "\n",
        "\n",
        "\n",
        "# Process  CSV file\n",
        "\n",
        "process_csv(\"apple-news_data.csv\", \"apple-news_sentiment.csv\")"
      ],
      "metadata": {
        "colab": {
          "base_uri": "https://localhost:8080/"
        },
        "id": "q-dVYZ5dBsvJ",
        "outputId": "ae800cc0-a724-49b6-eedd-b23ee4ec7ca4"
      },
      "execution_count": 1,
      "outputs": [
        {
          "output_type": "stream",
          "name": "stdout",
          "text": [
            "Sentiment analysis results saved to apple-news_sentiment.csv\n"
          ]
        },
        {
          "output_type": "stream",
          "name": "stderr",
          "text": [
            "[nltk_data] Downloading package vader_lexicon to /root/nltk_data...\n"
          ]
        }
      ]
    },
    {
      "cell_type": "code",
      "source": [
        "import csv\n",
        "import os\n",
        "\n",
        "def count_sentiments(input_filename):\n",
        "    # Dictionary to store sentiment counts\n",
        "    sentiment_counts = {'positive': 0, 'negative': 0, 'neutral': 0}\n",
        "\n",
        "    # Check if input file exists\n",
        "    if not os.path.exists(input_filename):\n",
        "        print(f\"Error: Input file '{input_filename}' not found.\")\n",
        "        return sentiment_counts\n",
        "\n",
        "    # Open CSV file and count sentiments\n",
        "    with open(input_filename, 'r', encoding='utf-8') as file:\n",
        "        reader = csv.DictReader(file)\n",
        "        for row in reader:\n",
        "            sentiment = row['predicted_sentiment']\n",
        "            if sentiment == 'Neutral':\n",
        "                sentiment_counts['neutral'] += 1\n",
        "            elif sentiment == 'Positive':\n",
        "                sentiment_counts['positive'] += 1\n",
        "            elif sentiment == 'Negative':\n",
        "                sentiment_counts['negative'] += 1\n",
        "    # print(sentiment_counts)\n",
        "    return sentiment_counts\n",
        "\n",
        "print(\"apple\",count_sentiments('apple-news_sentiment.csv'))"
      ],
      "metadata": {
        "colab": {
          "base_uri": "https://localhost:8080/"
        },
        "id": "Etb3ppM8wSY4",
        "outputId": "a019a915-1324-4dfc-f7f3-ab02a85ae20d"
      },
      "execution_count": 2,
      "outputs": [
        {
          "output_type": "stream",
          "name": "stdout",
          "text": [
            "apple {'positive': 74, 'negative': 8, 'neutral': 18}\n"
          ]
        }
      ]
    }
  ]
}